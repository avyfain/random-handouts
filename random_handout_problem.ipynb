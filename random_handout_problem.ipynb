{
 "cells": [
  {
   "cell_type": "markdown",
   "metadata": {},
   "source": [
    "# The Random Handout Problem - A Simulation\n",
    "**Avy Faingezicht, 8/19/2018**\n",
    "\n",
    "You can find me on my blog, [faingezicht.com](https://www.faingezicht.com) or on Twitter, as [@avyfain](https://www.twitter.com/avyfain)\n",
    "\n",
    "The simulation below was inspired by a thought experiment by [Uri Wilensky](http://ccl.northwestern.edu/Uri.shtml), who studies agent based modeling at Northwestern University.\n",
    "The question he poses is counterintuitive:\n",
    "\n",
    "> Imagine a room full of 100 people with 100 dollars each. With every tick of the clock, every person with money gives a dollar to one randomly chosen other person. After some time progresses, how will the money be distributed?\n",
    "\n",
    "Notice that it's not a 1-1 exchange on each random encounter but, instead, at every timestep people with cash hand out a dollar to a random person in the room. This notebook tries to give a quick way to compute and visualize the emerging behavior.\n",
    "\n",
    "Think about it for a second before scrolling down to the gif below.\n",
    "\n",
    ".\n",
    "\n",
    ".\n",
    "\n",
    ".\n",
    "\n",
    ".\n",
    "\n",
    "Thought about it? Cool. You probably thought the distribution would be roughly static. Well, nope.\n",
    "\n",
    "**A few interesting things happen:**\n",
    "\n",
    "* Due to the zero lower bound (ie, your wealth can't go negative), we end up with a skewed distribution. Some people end up with very little money, and others with a lot. This can be seen on the top chart, where we can see the overall distribution of the population.\n",
    "* While there is some path dependence, and the rich tend to remain rich, there is significant cycling and if you run the simulation long enough the same individual is likely to move back and forth between the bottom and top ranks.\n",
    "\n",
    "![Alt Text](random_encounters.gif)\n",
    "\n",
    "\n",
    "### Credits\n",
    "I first heard about this simulation from [Decision Science News](http://www.decisionsciencenews.com/2017/06/19/counterintuitive-problem-everyone-room-keeps-giving-dollars-random-others-youll-never-guess-happens-next/), and decided to reconstruct the simulation in Python. For a more in-depth look at the mathematic intuition behind the dynamics of this system, you can take a look at:\n",
    "\n",
    "* [Statistical mechanics of money](http://physics.umd.edu/~yakovenk/papers/EPJB-17-723-2000.pdf) by Dragulescu and Yakovenko\n",
    "* [When random people give money to random other people](https://quomodocumque.wordpress.com/about/) by Jordan S. Ellenberg\n",
    "\n",
    "Additionally, I'd like to thank [Max Humber](http://maxhumber.com/) whose talk on [Amusing Algorithms](https://github.com/maxhumber/amusing_algorithms/blob/master/amusing_algorithms.ipynb) at PyBay pointed me to the super simple pattern to generate animations with `imageio` used below. I had thought about working on this for a while, and had found the animation APIs in `matplotlib` too clunky too be worth experimenting with.\n",
    "\n",
    "### Code:"
   ]
  },
  {
   "cell_type": "code",
   "execution_count": 2,
   "metadata": {},
   "outputs": [],
   "source": [
    "%matplotlib inline"
   ]
  },
  {
   "cell_type": "code",
   "execution_count": 3,
   "metadata": {},
   "outputs": [],
   "source": [
    "import random\n",
    "import time\n",
    "import pathlib\n",
    "import re\n",
    "import imageio\n",
    "\n",
    "import matplotlib.pyplot as plt\n",
    "INITWEALTH = 50\n",
    "NUMPLAYERS = 100\n",
    "STEPS = 1000"
   ]
  },
  {
   "cell_type": "code",
   "execution_count": 4,
   "metadata": {},
   "outputs": [],
   "source": [
    "def simulate():\n",
    "    prev_step = [INITWEALTH]*NUMPLAYERS\n",
    "    while True:\n",
    "        # If a person has money to give away, subtract 1, otherwise, they stay at 0\n",
    "        next_step = [max(0, player_wealth - 1) for player_wealth in prev_step]\n",
    "\n",
    "        # Iterate on people's wealth at the previous step,\n",
    "        # if they were at 0 skip them, otherwise randomly pick a person to give one of their dollars.\n",
    "        for player, wealth in enumerate(prev_step):\n",
    "            if wealth:\n",
    "                next_step[random.randint(0, NUMPLAYERS - 1)] += 1\n",
    "        yield next_step\n",
    "        prev_step = next_step\n",
    "        \n",
    "def animate(i):\n",
    "    bank_step = next(bank)\n",
    "    ordered_bank_step = sorted(bank_step)\n",
    "    for idx, (r1, r2) in enumerate(zip(p1, p2)):\n",
    "        r1.set_height(ordered_bank_step[idx])\n",
    "        r2.set_height(bank_step[idx])"
   ]
  },
  {
   "cell_type": "code",
   "execution_count": 5,
   "metadata": {
    "scrolled": false
   },
   "outputs": [
    {
     "data": {
      "image/png": "[encoded data removed]",
      "text/plain": [
       "<Figure size 792x504 with 2 Axes>"
      ]
     },
     "metadata": {},
     "output_type": "display_data"
    }
   ],
   "source": [
    "fig, (ax1, ax2) = plt.subplots(2, figsize=(11,7))\n",
    "fig.suptitle(\"Giving away $1 on random encounters\")\n",
    "\n",
    "for ax in (ax1, ax2):\n",
    "    ax.set_ylabel(\"Dollars\")\n",
    "    ax.set_ylim(0, 200)\n",
    "\n",
    "ax1.set_xlabel(\"Sorted each step\")\n",
    "ax2.set_xlabel(\"Original order\")\n",
    "\n",
    "bank = simulate()\n",
    "init_state = next(bank)\n",
    "p1 = ax1.bar(range(NUMPLAYERS), init_state)\n",
    "p2 = ax2.bar(range(NUMPLAYERS), init_state)\n",
    "\n",
    "p = pathlib.Path('img/')\n",
    "p.mkdir(parents=True, exist_ok=True)\n",
    "        \n",
    "for step in range(STEPS):\n",
    "    animate(step)\n",
    "    plt.savefig(p / f'{step}.png', dpi=72)"
   ]
  },
  {
   "cell_type": "code",
   "execution_count": 6,
   "metadata": {},
   "outputs": [],
   "source": [
    "filenames = [str(x) for x in p.glob('*.png')]\n",
    "filenames.sort(key=lambda x: int(re.sub('\\D', '', x)))\n",
    "\n",
    "with imageio.get_writer('random_encounters.gif', fps=60) as writer:\n",
    "    for f in filenames:\n",
    "        im = imageio.imread(f)\n",
    "        writer.append_data(im)"
   ]
  }
 ],
 "metadata": {
  "kernelspec": {
   "display_name": "Python 3",
   "language": "python",
   "name": "python3"
  },
  "language_info": {
   "codemirror_mode": {
    "name": "ipython",
    "version": 3
   },
   "file_extension": ".py",
   "mimetype": "text/x-python",
   "name": "python",
   "nbconvert_exporter": "python",
   "pygments_lexer": "ipython3",
   "version": "3.6.4"
  }
 },
 "nbformat": 4,
 "nbformat_minor": 2
}
